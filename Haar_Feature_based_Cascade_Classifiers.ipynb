{
 "cells": [
  {
   "cell_type": "markdown",
   "metadata": {},
   "source": [
    "# Emotion Classification\n",
    "**Module 2: Haar Feature based Cascade Classifiers**\n",
    "* Author: [Andrés Mitre](https://github.com/andresmitre), [Center for Research in Mathematics (CIMAT)](http://www.cimat.mx/en) in Zacatecas, México.\n"
   ]
  },
  {
   "cell_type": "markdown",
   "metadata": {},
   "source": [
    "Module   |Title\n",
    "---------|--------------\n",
    "Module 1 |[Introduction](https://github.com/andresmitre/Emotion_Classification/blob/master/introduction.ipynb)\n",
    "Module 2 |[Haar Cascade Algorithm](https://github.com/andresmitre/Emotion_Classification/blob/master/Haar_Feature_based_Cascade_Classifiers.ipynb)\n",
    "Module 3 |[Creating Columns in Pandas](https://github.com/jeffheaton/t81_558_deep_learning/blob/master/assignments/assignment_yourname_class3.ipynb)\n",
    "Module 4 |[Regression Neural Network](https://github.com/jeffheaton/t81_558_deep_learning/blob/master/assignments/assignment_yourname_class4.ipynb)\n",
    "Module 5 |[Time Series Neural Network](https://github.com/jeffheaton/t81_558_deep_learning/blob/master/assignments/assignment_yourname_class10.ipynb)\n"
   ]
  },
  {
   "cell_type": "markdown",
   "metadata": {},
   "source": [
    "# Author: Andrés Mitre\n",
    "\n",
    "![Andres Mitre at Procopio Tower](https://raw.githubusercontent.com/andresmitre/Emotion_Classification/master/Images/myself.png \"Andres Mitre\")\n",
    "\n"
   ]
  },
  {
   "cell_type": "markdown",
   "metadata": {},
   "source": [
    "# Goals\n",
    "\n",
    "*  Basics of face detection using Haar Feature-based Cascade Classifiers.\n",
    "*  Extend the same for eye detection etc.\n"
   ]
  },
  {
   "cell_type": "markdown",
   "metadata": {},
   "source": [
    "# Basics\n",
    "\n",
    "Object Detection using Haar feature-based cascade classifiers is an effective object detection method proposed by Paul Viola and Michael Jones in their paper, [Rapid Object Detection using a Boosted Cascade of Simple Features](https://www.cs.cmu.edu/~efros/courses/LBMV07/Papers/viola-cvpr-01.pdf) in 2001. It is a machine learning based approach where a cascade function is trained from a lot of positive and negative images. It is then used to detect objects in other images.\n",
    "\n",
    "## What is Machine Learning\n",
    "\n",
    "As  regards  machines,  we  might  say,  very  broadly,  that  a  machine  learns whenever it changes its structure, program, or data (based on its inputs or in response  to  external  information)  in  such  a  manner  that  its  expected  future performance improves.  Some of these changes, such as the addition of a record to a data base, fall comfortably within the province of other disciplines and are not necessarily better understood for being called learning.  But, for example, when the performance of a speech-recognition machine improves after hearing several samples of a person’s speech, we feel quite justified in that case to say that the machine has learned. Machine learning usually refers to the changes in systems that perform tasks associated with artificial intelligence (AI). Such tasks involve recognition, diagnosis, planning, robot control, prediction, etc.  The “changes” might be either enhancements to already performing systems orab initio synthesis of new systems [[2]](http://robotics.stanford.edu/~nilsson/MLBOOK.pdf).\n",
    "\n",
    "![Machine learning vs Deep learning](https://raw.githubusercontent.com/andresmitre/Emotion_Classification/master/Images/machine-learning-vs-deep-learning.png)\n",
    "\n",
	"Picture taken from [here](http://digital-nebula.com/2018/01/03/top-terms-you-need-to-know-to-get-started-with-ai/machine-learning-vs-deep-learning/)\n",
	"\n"
   ]
  },
  {
   "cell_type": "markdown",
   "metadata": {},
   "source": [
    "##The following packages are needed for this project:\n",
    "\n",
    "```\n",
    "conda install scipy\n",
	"conda install -c trentonoliphant datetime\n",
	"conda install -c conda-forge opencv\n", 
	"conda install -c mlgill imutils\n",
	"conda install -c anaconda csvkit\n",
	"conda install -c conda-forge time\n", 
    "pip install sklearn\n",
    "pip install pandas\n",
    "pip install pandas-datareader\n",
    "pip install matplotlib\n",
    "pip install pillow\n",
    "pip install requests\n",
    "pip install h5py\n",
    "pip install tensorflow==1.4.0\n",
    "pip install keras==2.1.2\n",
    "```\n"
   ]
  },
  {
   "cell_type": "code",
   "execution_count": 2,
   "metadata": {},
   "outputs": [
    {
     "name": "stdout",
     "output_type": "stream",
     "text": [
      "Tensor Flow Version: 1.5.0\n",
      "Keras Version:  2.1.5\n",
      "\n",
      "Python 3.6.4 |Anaconda, Inc.| (default, Jan 16 2018, 10:22:32) [MSC v.1900 64 bit (AMD64)] \n",
      "[GCC 4.2.1 Compatible Clang 4.0.1 (tags/RELEASE_401/final)]\n",
      "Pandas 0.22.0\n",
      "Scikit-Learn 0.19.1\n"
     ]
    }
   ],
   "source": [
    "# What version of Python do you have?\n",
    "\n",
    "import keras\n",
    "import tensorflow as tf\n",
    "import sys\n",
    "import sklearn as sk\n",
    "import pandas as pd\n",
    "print(\"Tensor Flow Version: {}\".format(tf.__version__))\n",
    "print(\"Keras Version: {}\".format(keras.__version__))\n",
    "print()\n",
    "print(\"Python {}\".format(sys.version))\n",
    "print('Pandas {}'.format(pd.__version__))\n",
    "print('Scikit-Learn {}'.format(sk.__version__))"
   ]
  }
 ],
 "metadata": {
  "anaconda-cloud": {},
  "kernelspec": {
   "display_name": "Python 3",
   "language": "python",
   "name": "python3"
  },
  "language_info": {
   "codemirror_mode": {
    "name": "ipython",
    "version": 3
   },
   "file_extension": ".py",
   "mimetype": "text/x-python",
   "name": "python",
   "nbconvert_exporter": "python",
   "pygments_lexer": "ipython3",
   "version": "3.6.3"
  }
 },
 "nbformat": 4,
 "nbformat_minor": 1
}
