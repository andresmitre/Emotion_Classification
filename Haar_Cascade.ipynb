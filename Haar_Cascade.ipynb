{
 "cells": [
  {
   "cell_type": "markdown",
   "metadata": {},
   "source": [
    "# T81-558: Applications of Deep Neural Networks\n",
    "**Module 1: Python Preliminaries**\n",
    "* Instructor: [Jeff Heaton](https://sites.wustl.edu/jeffheaton/), School of Engineering and Applied Science, [Washington University in St. Louis](https://engineering.wustl.edu/Programs/Pages/default.aspx)\n",
    "* For more information visit the [class website](https://sites.wustl.edu/jeffheaton/t81-558/)."
   ]
  },
  {
   "cell_type": "markdown",
   "metadata": {},
   "source": [
    "# Module Video Material\n",
    "\n",
    "Weekly video update:\n",
    "\n",
    "* [January 14, 2018 Update for Fall 2018](https://www.youtube.com/watch?v=AuOclsnoe64) \n",
    "\n",
    "Main video lecture ([complete YouTube Playlist](https://www.youtube.com/playlist?list=PLjy4p-07OYzulelvJ5KVaT2pDlxivl_BN)):\n",
    "\n",
    "* [Part 1.1: Course Overview](https://www.youtube.com/watch?v=sRy26qWejOI&index=1&list=PLjy4p-07OYzulelvJ5KVaT2pDlxivl_BN)\n",
    "* [Part 1.2: Machine Learning Background for Deep Learning, Keras and Tensorflow](https://www.youtube.com/watch?v=807L9m5dWng&list=PLjy4p-07OYzulelvJ5KVaT2pDlxivl_BN)\n",
    "* [Part 1.3: Python Anaconda for Deep Learning, Keras and Tensorflow](https://www.youtube.com/watch?v=uOMhboAnVNk&index=3&list=PLjy4p-07OYzulelvJ5KVaT2pDlxivl_BN)\n",
    "* [How to Submit a Module Assignment](https://www.youtube.com/watch?v=hmCGjCVhYNc)\n",
    "\n",
    "Watch one (or more) of these depending on how you want to setup your Python TensorFlow environment:\n",
    "\n",
    "* [Installing TensorFlow, Keras, and Python in Windows](https://www.youtube.com/watch?v=z0qhKP2liHs&index=5&list=PLjy4p-07OYzulelvJ5KVaT2pDlxivl_BN)\n",
    "* [Installing TensorFlow, Keras, and Python in Mac](https://www.youtube.com/watch?v=RUs_qR1hKds&index=4&list=PLjy4p-07OYzulelvJ5KVaT2pDlxivl_BN)\n",
    "* [Installing/Using IBM Cognitive Class Labs with TensorFlow/Keras](https://www.youtube.com/watch?v=CyWxFqMVOvg)\n"
   ]
  },
  {
   "cell_type": "markdown",
   "metadata": {},
   "source": [
    "# Helpful Functions\n",
    "\n",
    "You will see these at the top of every module.  These are simply a set of reusable functions that we will make use of.  Each of them will be explained as the semester progresses.  They are explained in greater detail as the course progresses.  Class 4 contains a complete overview of these functions."
   ]
  },
