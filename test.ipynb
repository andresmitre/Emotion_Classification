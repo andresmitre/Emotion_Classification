{
 "cells": [
  {
   "cell_type": "markdown",
   "metadata": {},
   "source": [
    "# Emotion Classification\n",
    "**Module 2: Haar Feature based Cascade Classifiers**\n",
    "* Author: [Andrés Mitre](https://github.com/andresmitre), [Center for Research in Mathematics (CIMAT)](http://www.cimat.mx/en) in Zacatecas, México.\n"
   ]
  },
    
  {
   "cell_type": "markdown",
   "metadata": {},
   "source": [
    "# Basics\n",
    "\n",
	"## Chapter 1 \n",
    "\n",
  "####1. What is whitespace? \n",  

  "An special character to make programs easier to read. \n",  

  "####2. What is a comment? What are the two ways of writing a comment? \n",  
  "A section of code ignored. \n",
  "// or /* * / \n",  

"####3. Our program began with package main. What would the files in the fmt package begin with? \n",  
  "First the package with fmt. then the sentence. \n",  

  "####4. We used the Println function defined in the fmt package. If you wanted to use the Exit function from the os package, what would you need to do? \n",  
  "import the os package \n",  


  "#### 5. Modify the program we wrote so that instead of printing Hello, World it prints Hello, \n"
  
  
   ]
  },
  {
   "cell_type": "code",
   "execution_count": 1,
   "metadata": {},
   "source": [

     "package main \n",
     "import fmt \n",
     "func main () { \n",
       "fmt.Println(Hello, my name is Andres Mitre)\n",
     "}"
   ]
  },
   {
   "cell_type": "markdown",
   "metadata": {},
   "source": [
	"Now we find the faces in the image. If faces are found, it returns the positions of detected faces as Rect(x,y,w,h). Once we get these locations, we can create a ROI for the face and apply eye detection on this ROI (since eyes are always on the face !!! ).\n",
    "\n"   
   ]
  }
 ],
 "metadata": {
  "anaconda-cloud": {},
  "kernelspec": {
   "display_name": "Go",
   "language": "go",
   "name": "python3"
  },
  "language_info": {
   "codemirror_mode": {
    "name": "ipython",
    "version": 3
   },
   "file_extension": ".go",
   "mimetype": "text/x-python",
   "name": "python",
   "nbconvert_exporter": "python",
   "pygments_lexer": "ipython3",
   "version": "3.6.3"
  }
 },
 "nbformat": 4,
 "nbformat_minor": 1
}
