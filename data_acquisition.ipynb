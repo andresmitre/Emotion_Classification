 "\n",
	"* Sequence:\n",
    "    * **Neutral** > **Stress** > **Neutral** > **Boredom** > **Neutral** > **Happy**.\n",
	"\n"
	
	
	 {
   "cell_type": "markdown",
   "metadata": {},
   "source": [
    "# Procedure\n",
    "\n",
    "The emotions from the above table were validated by more than 100 participants in the documentation project [[contact Author]](https://github.com/andresmitre). the collection of raw data takes place in a lapse of 30 seconds in every emotion. The Raw data was collected in the next sequence: \n",
	"\n",
	"* Sequence:\n",
	"    * **Neutral > Stress > Neutral > Boredom > Neutral > Happy**.\n",
	"\n",
	"The photos were taken at 10FPS. a total of 1380 images were selected as the training data set. where 10 images per emotion of every participant were captured. The images were selected according to the biggest difference between the emotion and the neutral.\n",
	"\n",
	"![Experiment](https://raw.githubusercontent.com/andresmitre/Emotion_Classification/master/Images/experiment.png \"Experiment\")\n",
	"\n",
	"Participant during the experiment.\n",
	"\n",
	"##CSV Files\n",
    "\n",
    "The raw data was collected into a CSV file. Each participant had their each CSV file for every emotion. Time, ID, Emotion and Picture number were the fields collected into de CSV, to identify the corresponding image to the specific time. The next figure represents an example of the data collected coresponding to the participant 3 (S3).\n",
    "\n"
  },


	{
	   "cell_type": "markdown",
	   "metadata": {},
	   "source": [
	    "##FER Dataset\n",
        "The Facial Expression Recognition images were saved into seperate directories (named with the emotion) every single image were recorded in the next format:\n",
        "\n",
		"* **Emotion + ID of the participant + Picture Number**.\n",
		"\n",
		"![FER Data set](https://raw.githubusercontent.com/andresmitre/Emotion_Classification/master/Images/data_set.png \"FER data set\")\n",
		"\n",
		"![Facial_db](https://raw.githubusercontent.com/andresmitre/Emotion_Classification/master/Images/facial_db.png \"Facial db\")\n",
		"\n"				
		]
	  },
