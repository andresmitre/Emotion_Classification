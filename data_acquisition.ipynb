	{
	 "cells": [
	  {
	   "cell_type": "markdown",
	   "metadata": {},
	   "source": [
		"# Emotion Classification\n",
		"**Module 3: Data acquisition**\n",
		"* Author: [Andrés Mitre](https://github.com/andresmitre), [Center for Research in Mathematics (CIMAT)](http://www.cimat.mx/en) in Zacatecas, México.\n"
	   ]
	  },
	  {
	   "cell_type": "markdown",
	   "metadata": {},
	   "source": [
		"Module   |Title\n",
		"---------|--------------\n",
		"Module 1 |[Introduction](https://github.com/andresmitre/Emotion_Classification/blob/master/introduction.ipynb)\n",
		"Module 2 |[Haar Cascade Algorithm](https://github.com/andresmitre/Emotion_Classification/blob/master/Haar_Feature_based_Cascade_Classifiers.ipynb)\n",
		"Module 3 |[Data acquisition](https://github.com/andresmitre/Emotion_Classification/blob/master/data_acquisition.ipynb)\n",
		"Module 4 |[Regression Neural Network](https://github.com/jeffheaton/t81_558_deep_learning/blob/master/assignments/assignment_yourname_class4.ipynb)\n",
		"Module 5 |[Time Series Neural Network](https://github.com/jeffheaton/t81_558_deep_learning/blob/master/assignments/assignment_yourname_class10.ipynb)\n"
	   ]
	  },
	  {
	   "cell_type": "markdown",
	   "metadata": {},
	   "source": [
		"# Goals\n",
		"\n",
		"*  Capture RAW data from FER and GSR.\n",
		"*  Export data to a CSV file.\n"
	   ]
	  },
	  {
	   "cell_type": "markdown",
	   "metadata": {},
	   "source": [
		"# Raw Data\n",
		"\n",
		"The data collection, starts with a FER(Facial Expression Recognition) using [haarcascades](https://github.com/opencv/opencv), with a professional camera/webcam. Images were taken while 23 participants watched a series of films related with emotions. The images were saved into separate emotions folders. GSR lectures were recorded as well since stress and boredom emotions stimulates the activity of sweet glands. the GSR were captured with the [Grove - GSR sensor](https://www.seeedstudio.com/Grove-GSR-sensor-p-1614.html) and saved into a CSV file. \n",
		"\n",
		"**Galvanic Skin Response (GSR)**\n",
		"\n",
		"The Galvanic Skin Response (GSR) is defined as a change in the electrical properties of the skin. The signal can be used for capturing the autonomic nerve responses as a parameter of the sweat gland function. The measurement is relatively simple, and has a good repeatability. Therefore the GSR measurement can be considered to be a simple and useful tool for examination of the autonomous nervous system function, and especially the peripheral sympathetic system.\n",
		"\n",
		"For detailed information I highly reccomend to check [The complete pocket guide by IMOTIONS](https://imotions.com/guides/).\n",
		"\n",
		"* Materials required:\n",
		"    * **Camera** - [EOS Rebel T3 – Canon Profesional.](https://www.amazon.com/Canon-Digital-18-55mm-discontinued-manufacturer/dp/B004J3Y9U6).\n",
		"    * **Monitor** - [LCD 22 in, TFT FPD2275W-MX](https://www.cnet.com/products/gateway-fpd2275w/specs/).\n",
		"    * **Keyboard** - DELL SK-8115.\n",
		"    * **Speakers** - Subwoofer DELL A525.\n",
		"    * **GSR Sensor** - [Grove - GSR Sensor](https://www.seeedstudio.com/Grove-GSR-sensor-p-1614.html).\n",
		"    * **Computer** - [Dell Inspiron 13-7359 Signature Edition](http://www.dell.com/en-us/shop/dell-laptops/new-inspiron-13-7000-series-2-in-1-laptop/spd/inspiron-13-7359-laptop).\n",
		"* Films Stimulants:\n"
	   ]
	  },
	  {
	   "cell_type": "markdown",
	   "metadata": {},
	   "source": [
		"Emotion   |Film                |Director\n",
		"---------|---------------------|--------\n",
		"Neutral  |The Lover            |Jean-Jacques Annaud\n",
		"Happy    |When Harry Met Sally |Rob Reiner\n",
		"Stress   |Irreversible         |Gaspar Noé\n",
		"Boredom  |Amateur film         |[Merrifield, C. and Danckert, J.](https://www.youtube.com/watch?v=s34zGmq3rXQ)\n"
	   ]
	  },
	  {
	   "cell_type": "markdown",
	   "metadata": {},
	   "source": [
		"# Procedure\n",
		"The emotions from the above table were validated by more than 100 participants in the documentation project [[contact Author]](https://github.com/andresmitre). the collection of raw data takes place in a lapse of 30 seconds in every emotion. The Raw data was collected in the next sequence: \n",
	    "\n",
		"* Sequence:\n",
	    "    * **Neutral > Stress > Neutral > Boredom > Neutral > Happy**.\n",
	    "\n",
	    "The photos were taken at 10FPS. a total of 1380 images were selected as the training data set. where 10 images per emotion of every participant were captured. The images were selected according to the biggest difference between the emotion and the neutral.\n",
		"\n",
		"![Experiment](https://raw.githubusercontent.com/andresmitre/Emotion_Classification/master/Images/experiment.png \"Experiment\")\n",
	    "\n",
	    "Participant during the experiment.\n",
	    "\n",
	    "##CSV Files\n",
        "The raw data was collected into a CSV file. Each participant had their each CSV file for every emotion. Time, ID, Emotion and Picture number were the fields collected into de CSV, to identify the corresponding image to the specific time. The next figure represents an example of the data collected coresponding to the participant 3 (S3).\n",
        "\n",
		"![csvfile](https://raw.githubusercontent.com/andresmitre/Emotion_Classification/master/Images/csv.png \"CSV File\")\n",
		"\n"
		]
	  },
	  {
	   "cell_type": "markdown",
	   "metadata": {},
	   "source": [
	    "##FER Dataset\n",
        "The Facial Expression Recognition images were saved into seperate directories (named with the emotion) every single image were recorded in the next format:\n",
        "\n",
		"* **Emotion + ID of the participant + Picture Number**.\n",
		"\n",
		"![FER Data set](https://raw.githubusercontent.com/andresmitre/Emotion_Classification/master/Images/data_set.png \"FER data set\")\n",
		"\n",
		"![Facial_db](https://raw.githubusercontent.com/andresmitre/Emotion_Classification/master/Images/facial_db.png \"Facial db\")\n",
		"\n"				
		]
	  },
	  {
	   "cell_type": "code",
	   "execution_count": 1,
	   "metadata": {},
	   "source": [
		"import imutils\n",
		"import serial\n",		
		"import serial\n",
		"import cv2\n",
		"import time\n",
		"from datetime import datetime\n",
		"import csv\n",
		"\n",
		"\n",
		"# Load Haar cascade files:\n",
		"path_cascade = ''./haarcascades/''\n",
		"\n",
		"face_cascade = cv2.CascadeClassifier(\n",
		"	path_cascade + 'haarcascade_frontalface_default.xml')\n",
		"# eye_cascade = cv2.CascadeClassifier(path_cascade + 'haarcascade_eye.xml')\n",
		"eye_cascade = cv2.CascadeClassifier(\n",
		"	path_cascade + 'haarcascade_mcs_eyepair_big.xml')\n",
		"# eye_cascade = cv2.CascadeClassifier(\n",
		"#  path_cascade + 'haarcascade_eye_tree_eyeglasses.xml')\n",
		"\n",
		"csv_path = ''./CSV_files/''\n",
		"\n",
		"# Data path\n",
		"IAPS_img = ''./IAPS_Images/''\n",
		"Act_img = ''./Act_Images/''\n",
		"\n",
		"# Spontaneous dataset\n",
		"Neutral_img = ''./img_data/Spontaneous_emotion/Neutral/''\n",
		"Happy_img = ''./img_data/Spontaneous_emotion/Happy/''\n",
		"Boredom_img = ''./img_data/Spontaneous_emotion/Boredom/''\n",
		"Relaxed_img = ''./img_data/Spontaneous_emotion/Relaxed/''\n",
		"Stressed_img = ''./img_data/Spontaneous_emotion/Stressed/''\n",
		"\n",
		"# Acting dataset\n",
		"Neutral_act = ''./img_data/Acting_emotion/Neutral/''\n",
		"Happy_act = ''./img_data/Acting_emotion/Happy/''\n",
		"Stress_act = ''./img_data/Acting_emotion/Stress/''\n",
		"Boredom_act = ''./img_data/Acting_emotion/Boredom/''\n",
		"\n",
		"Width=720\n",
		"Height =480\n",
		"n=300\n",
		"\n",
		"# Indicates person ID\n",
		"num = input(''Person ID (i.e: S1, S2, ... ,Sn):'')\n",
		"\n",
		"\n",
		"GSR_Array = []
		"\n",
		"\n",
		"# Load video capture:\n",
		"cap = cv2.VideoCapture(3)\n",
		"\n",
		"\n",
		"#______________________________Spontanoues emotions________________________________#\n",
		"\n",
		"# Create multiscale classifier:\n",
		"while (True):\n",
		"\n",   
		"	ret, img = cap.read()\n",
		"	img = imutils.resize(img, width=Width, height = Height)\n",
		"	gray = cv2.cvtColor(img, cv2.COLOR_BGR2GRAY)\n",
		"	faces = face_cascade.detectMultiScale(gray, 1.3, 5) #image, Scale factor, min Neighbors, min size, max size\n",
		"	for (x,y,w,h) in faces:\n",
		"		cv2.rectangle(img, (x-10,y-10) , (x+w+10, y+h+30), (0,0,255), 2)\n",
		"		roi_gray = gray[y : y + h, x : x + w]\n",
		"		roi_color = img[y : y + h, x : x + w]\n",
		"		eyes = eye_cascade.detectMultiScale(roi_gray, 1.1, 10, 10)\n",
		"		for(ex,ey,ew,eh) in eyes:\n",
		"			cv2.rectangle(roi_color, (ex,ey), (ex+ew,ey+eh), (0,255,0), 1, )\n",
		"			img_eye = roi_color[ey : ey + eh , ex : ex + ew]\n",         
		"		# Display the resulting frame\n",     
		"		cv2.imshow('Camera',img)\n", 
		"		print (''Press space to continue...'')\n",
		"	k = cv2.waitKey(300) & 0xff\n",
		"	if k == 32:\n",
		"		print (''do not move'')\n",
		"		break\n",  
		"cv2.destroyAllWindows()\n",     
		"time.sleep(5)\n", 
		"\n",
		"cpt = 0
		"maxFrames = n
		"while(True):
		"   time.sleep(310)\n", 
		"   break\n",    
		"\n",
		"\n",
		"Sensor = serial.Serial('COM6', 115200)  #Serial PORT at certain baudRate\n", 
		"cpt = 0\n",
		"maxFrames = n\n",
		"while(True):\n",    
		"	ret, img = cap.read()\n",
		"	img = imutils.resize(img, width=Width, height = Height)\n",
		"	gray = cv2.cvtColor(img, cv2.COLOR_BGR2GRAY)\n",    
		"	faces = face_cascade.detectMultiScale(gray, 1.3, 5)\n",   
		"	if (cpt < maxFrames):\n", 
		"		while (Sensor.inWaiting() ==0):     #Wait until there is data\n", 
		"			pass                            #N O T H I N G ---\n",
		"		GSR = Sensor.readline()     #Convert string to floating number\n", 
		"		cpt += 1\n", 
		"		currentTime = datetime.now()\n",
		"		Time =  currentTime.strftime(''%H: %M: %S.%f'')[:-3]\n",      
		"		csvRow = [str(Time), str(num) , ''Stressed'', GSR, str(cpt)]\n",
		"		fieldnames = ['GSR', 'ID']\n",
		"		csvfile = (csv_path + str(num) + '_Stressed_S_GSR.csv')\n", 
		"		with open(csvfile, "a",  newline='') as file:\n", 
		"			wr = csv.writer(file, dialect='excel', quotechar=' ', quoting=csv.QUOTE_MINIMAL)\n",
		"			wr.writerow(csvRow)\n",  
		"		for (x, y, w, h) in faces:\n",      
		"			cv2.rectangle(img, (x, y), (x + w, y + h),\n", 
		"						  (0, 0, 255), 1)\n",
		"			roi_gray = gray[y: y + h, x : x + w]\n",
		"			roi_color = img[y+1: y + h-1, x+1 : x + w-1]\n",
		"			cv2.imwrite(Stressed_img + ''Stressed_'' + str(num) +\n",
		"						''_Face_%03i.jpg'' %cpt, roi_color)\n",
		"			eyes = eye_cascade.detectMultiScale(roi_gray, 1.2, 10, 10)\n",
		"			for (ex, ey, ew, eh) in eyes:\n",
		"				cv2.rectangle(roi_color, (ex, ey),\n",
		"							  (ex + ew, ey + eh), (0, 255, 0), 1)\n",
		"				img_eye = roi_color[ey+1 : ey + eh-1 , ex+1 : ex + ew-1]\n",                 
		"				print (str(cpt) + '' GSR: '' + str(GSR) + ''. Stress: %s'' % time.ctime())\n",          
		"				cv2.imwrite(Stressed_img + ''Stressed_'' + str(num) +\n", 
		"							''_Eyes_%03i.jpg'' %cpt, img_eye)\n",
		"			break\n",          
		"		if(cpt==maxFrames):\n",
		"			with open(csvfile ,newline='') as f:\n",
		"				r = csv.reader(f)\n",
		"				data = [line for line in r]\n",
		"			with open(csvfile,'w',newline='') as f:\n",
		"				w = csv.writer(f)\n",
		"				w.writerow([''Timestamp'', ''ID'', ''Emotion'' , ''GSR'', ''Picture number''])\n",
		"				w.writerows(data)\n",   
		"			cv2.waitKey(100)\n",
		"			break\n",
		"\n",	
		"print(''Stress done'')\n",      
		"Sensor.close()\n",  
		"cv2.destroyAllWindows()"
	   ]
	  },
	   {
	   "cell_type": "markdown",
	   "metadata": {},
	   "source": [
		"Now we find the faces in the image. If faces are found, it returns the positions of detected faces as Rect(x,y,w,h). Once we get these locations, we can create a ROI for the face and apply eye detection on this ROI (since eyes are always on the face !!! ).\n",
		"\n"   
	   ]
	  },
	  {
	   "cell_type": "code",
	   "execution_count": 2,
	   "metadata": {},
	   "source": [
		"faces = face_cascade.detectMultiScale(gray, 1.3, 5)\n",
		"for (x,y,w,h) in faces:\n",
		"    cv.rectangle(img,(x,y),(x+w,y+h),(255,0,0),2)\n",
		"    roi_gray = gray[y:y+h, x:x+w]\n",
		"    roi_color = img[y:y+h, x:x+w]\n",
		"    eyes = eye_cascade.detectMultiScale(roi_gray)\n",
		"    for (ex,ey,ew,eh) in eyes:\n",
		"        cv.rectangle(roi_color,(ex,ey),(ex+ew,ey+eh),(0,255,0),2)\n",
		"cv.imshow('img',img)\n",
		"cv.waitKey(0)\n",
		"cv.destroyAllWindows()"
	   ]
	  },
	  {
	   "cell_type": "markdown",
	   "metadata": {},
	   "source": [
	   "## Additional Resources\n",
	   "\n",
	   "Video Lecture on [Face Detection and Tracking](https://www.youtube.com/watch?v=WfdYYNamHZ8).\n",
	   "\n"  
	   ]
	  },
	  {
	   "cell_type": "markdown",
	   "metadata": {},
	   "source": [
		"In order to use different classifiers for face, eyes, smiles and upper body. OpenCV has several XML files, try some of these [here](https://github.com/opencv/opencv/tree/master/data/haarcascades).\n",
		"\n"   
	   ]
	  }
	 ],
	 "metadata": {
	  "anaconda-cloud": {},
	  "kernelspec": {
	   "display_name": "Python 3",
	   "language": "python",
	   "name": "python3"
	  },
	  "language_info": {
	   "codemirror_mode": {
		"name": "ipython",
		"version": 3
	   },
	   "file_extension": ''.py",
	   "mimetype": "text/x-python",
	   "name": "python",
	   "nbconvert_exporter": "python",
	   "pygments_lexer": "ipython3",
	   "version": "3.6.3"
	  }
	 },
	 "nbformat": 4,
	 "nbformat_minor": 1
	}
